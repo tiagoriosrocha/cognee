{
 "cells": [
  {
   "cell_type": "code",
   "execution_count": null,
   "id": "0d980801",
   "metadata": {
    "vscode": {
     "languageId": "plaintext"
    }
   },
   "outputs": [],
   "source": [
    "Notebook 1"
   ]
  },
  {
   "cell_type": "code",
   "execution_count": null,
   "id": "2cb1571f",
   "metadata": {},
   "outputs": [],
   "source": [
    "import cognee\n",
    "import asyncio\n",
    "import json\n",
    "import csv\n",
    "import os\n",
    "import logging\n",
    "from cognee.modules.search.types import SearchType "
   ]
  }
 ],
 "metadata": {
  "language_info": {
   "name": "python"
  }
 },
 "nbformat": 4,
 "nbformat_minor": 5
}
